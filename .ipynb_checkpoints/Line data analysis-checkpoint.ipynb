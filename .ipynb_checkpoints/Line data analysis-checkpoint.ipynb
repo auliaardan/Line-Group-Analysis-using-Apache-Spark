{
 "cells": [
  {
   "cell_type": "markdown",
   "id": "1b4827b2",
   "metadata": {},
   "source": [
    "# Line data analysis\n",
    "\n",
    "---"
   ]
  },
  {
   "cell_type": "markdown",
   "id": "db95440b",
   "metadata": {},
   "source": [
    "Data is collected from 8 group chat in line\n",
    "Downloaded into a txt format provided by the application\n",
    "The overall process of the data is:\n",
    "- initialize spark\n",
    "- clean up data\n",
    "- analyze"
   ]
  },
  {
   "cell_type": "code",
   "execution_count": 51,
   "id": "7d342e4b",
   "metadata": {},
   "outputs": [],
   "source": [
    "#Necessary for pointing to correct python path\n",
    "import os\n",
    "import sys\n",
    "\n",
    "os.environ['PYSPARK_PYTHON'] = sys.executable\n",
    "os.environ['PYSPARK_DRIVER_PYTHON'] = sys.executable"
   ]
  },
  {
   "cell_type": "code",
   "execution_count": 52,
   "id": "cfdb4346",
   "metadata": {},
   "outputs": [],
   "source": [
    "#Initialize Spark\n",
    "import pyspark as ps\n",
    "\n",
    "spark = ps.sql.SparkSession.builder.master('local[4]').appName('Line Analyser').getOrCreate()\n",
    "\n",
    "sc = spark.sparkContext"
   ]
  },
  {
   "cell_type": "code",
   "execution_count": 53,
   "id": "e4ded86a",
   "metadata": {},
   "outputs": [],
   "source": [
    "import findspark\n",
    "\n",
    "findspark.init()"
   ]
  },
  {
   "cell_type": "markdown",
   "id": "798a5974",
   "metadata": {},
   "source": [
    "# Pre-processing text\n",
    "\n",
    "---"
   ]
  },
  {
   "cell_type": "code",
   "execution_count": 54,
   "id": "fe38f937",
   "metadata": {},
   "outputs": [],
   "source": [
    "#Use 2 stopwords and a custom word list\n",
    "\n",
    "import regex as re\n",
    "from nltk.corpus import stopwords\n",
    "import nltk"
   ]
  },
  {
   "cell_type": "code",
   "execution_count": 55,
   "id": "46b39202",
   "metadata": {},
   "outputs": [],
   "source": [
    "stopwords_ind = set(nltk.corpus.stopwords.words('indonesian'))\n",
    "stopwords_eng = set(nltk.corpus.stopwords.words('english'))"
   ]
  },
  {
   "cell_type": "code",
   "execution_count": 56,
   "id": "c33b52af",
   "metadata": {},
   "outputs": [],
   "source": [
    "words_remove = ['ya', 'gk', 'g', '-', \n",
    "                'yg', 's.', 'f', '|',\n",
    "                '-----', 'ga', 'gue',\n",
    "                'yaa', 'gw',\n",
    "              ]"
   ]
  },
  {
   "cell_type": "code",
   "execution_count": 57,
   "id": "2fb77021",
   "metadata": {},
   "outputs": [],
   "source": [
    "def is_stopwords(text):\n",
    "    if text not in stopwords_ind and text not in stopwords_eng and text not in words_remove:\n",
    "        return text"
   ]
  },
  {
   "cell_type": "code",
   "execution_count": 58,
   "id": "2abc5f28",
   "metadata": {},
   "outputs": [],
   "source": [
    "rdd = sc.textFile(\"foo\")\\\n",
    "    .flatMap(lambda x: x.split()).map(lambda x: x.lower()).map(lambda x: is_stopwords(x))"
   ]
  },
  {
   "cell_type": "code",
   "execution_count": 59,
   "id": "35c1a786",
   "metadata": {},
   "outputs": [
    {
     "data": {
      "text/plain": [
       "399053"
      ]
     },
     "execution_count": 59,
     "metadata": {},
     "output_type": "execute_result"
    }
   ],
   "source": [
    "text_list = rdd.collect()\n",
    "len(text_list)"
   ]
  },
  {
   "cell_type": "code",
   "execution_count": 60,
   "id": "99802609",
   "metadata": {},
   "outputs": [],
   "source": [
    "text_list_cleaned = [x for x in text_list if x]"
   ]
  },
  {
   "cell_type": "markdown",
   "id": "e2e6ca71",
   "metadata": {},
   "source": [
    "# Analyze"
   ]
  },
  {
   "cell_type": "code",
   "execution_count": 61,
   "id": "cf011ba9",
   "metadata": {},
   "outputs": [],
   "source": [
    "#Analyze using spark, count occurance of the words\n",
    "rdd_txt_cl = sc.parallelize(text_list_cleaned).map(lambda word: (word,1))\\\n",
    ".reduceByKey(lambda x, y: x + y)\\\n",
    ".sortBy(lambda amount: amount[1], ascending=False)"
   ]
  },
  {
   "cell_type": "code",
   "execution_count": 62,
   "id": "0f5ac006",
   "metadata": {},
   "outputs": [],
   "source": [
    "text_freq = rdd_txt_cl.collect()"
   ]
  },
  {
   "cell_type": "code",
   "execution_count": 63,
   "id": "16ad52b1",
   "metadata": {},
   "outputs": [],
   "source": [
    "text_freq_dict = {\n",
    "    'text':[],\n",
    "    'freq':[]\n",
    "}"
   ]
  },
  {
   "cell_type": "code",
   "execution_count": 64,
   "id": "bd17ab86",
   "metadata": {},
   "outputs": [],
   "source": [
    "for i in text_freq:\n",
    "    text_freq_dict['text'].append(i[0])\n",
    "    text_freq_dict['freq'].append(i[1])"
   ]
  },
  {
   "cell_type": "code",
   "execution_count": 65,
   "id": "695508ed",
   "metadata": {},
   "outputs": [],
   "source": [
    "import pandas as pd"
   ]
  },
  {
   "cell_type": "code",
   "execution_count": 66,
   "id": "32c6db3d",
   "metadata": {},
   "outputs": [],
   "source": [
    "df = pd.DataFrame.from_dict(text_freq_dict, orient='columns')"
   ]
  },
  {
   "cell_type": "code",
   "execution_count": 67,
   "id": "9b225e1c",
   "metadata": {},
   "outputs": [
    {
     "data": {
      "text/html": [
       "<div>\n",
       "<style scoped>\n",
       "    .dataframe tbody tr th:only-of-type {\n",
       "        vertical-align: middle;\n",
       "    }\n",
       "\n",
       "    .dataframe tbody tr th {\n",
       "        vertical-align: top;\n",
       "    }\n",
       "\n",
       "    .dataframe thead th {\n",
       "        text-align: right;\n",
       "    }\n",
       "</style>\n",
       "<table border=\"1\" class=\"dataframe\">\n",
       "  <thead>\n",
       "    <tr style=\"text-align: right;\">\n",
       "      <th></th>\n",
       "      <th>text</th>\n",
       "      <th>freq</th>\n",
       "    </tr>\n",
       "  </thead>\n",
       "  <tbody>\n",
       "    <tr>\n",
       "      <th>0</th>\n",
       "      <td>dyah</td>\n",
       "      <td>2330</td>\n",
       "    </tr>\n",
       "    <tr>\n",
       "      <th>1</th>\n",
       "      <td>intan</td>\n",
       "      <td>2252</td>\n",
       "    </tr>\n",
       "    <tr>\n",
       "      <th>2</th>\n",
       "      <td>[photo]</td>\n",
       "      <td>1901</td>\n",
       "    </tr>\n",
       "    <tr>\n",
       "      <th>3</th>\n",
       "      <td>fkui</td>\n",
       "      <td>1841</td>\n",
       "    </tr>\n",
       "    <tr>\n",
       "      <th>4</th>\n",
       "      <td>reynardi</td>\n",
       "      <td>1372</td>\n",
       "    </tr>\n",
       "    <tr>\n",
       "      <th>...</th>\n",
       "      <td>...</td>\n",
       "      <td>...</td>\n",
       "    </tr>\n",
       "    <tr>\n",
       "      <th>37967</th>\n",
       "      <td>menempuh</td>\n",
       "      <td>1</td>\n",
       "    </tr>\n",
       "    <tr>\n",
       "      <th>37968</th>\n",
       "      <td>intan!!!</td>\n",
       "      <td>1</td>\n",
       "    </tr>\n",
       "    <tr>\n",
       "      <th>37969</th>\n",
       "      <td>ultaaaaah</td>\n",
       "      <td>1</td>\n",
       "    </tr>\n",
       "    <tr>\n",
       "      <th>37970</th>\n",
       "      <td>velliaa</td>\n",
       "      <td>1</td>\n",
       "    </tr>\n",
       "    <tr>\n",
       "      <th>37971</th>\n",
       "      <td>temen2!!!!</td>\n",
       "      <td>1</td>\n",
       "    </tr>\n",
       "  </tbody>\n",
       "</table>\n",
       "<p>37972 rows × 2 columns</p>\n",
       "</div>"
      ],
      "text/plain": [
       "             text  freq\n",
       "0            dyah  2330\n",
       "1           intan  2252\n",
       "2         [photo]  1901\n",
       "3            fkui  1841\n",
       "4        reynardi  1372\n",
       "...           ...   ...\n",
       "37967    menempuh     1\n",
       "37968    intan!!!     1\n",
       "37969   ultaaaaah     1\n",
       "37970     velliaa     1\n",
       "37971  temen2!!!!     1\n",
       "\n",
       "[37972 rows x 2 columns]"
      ]
     },
     "execution_count": 67,
     "metadata": {},
     "output_type": "execute_result"
    }
   ],
   "source": [
    "df"
   ]
  },
  {
   "cell_type": "code",
   "execution_count": 68,
   "id": "f7a0592c",
   "metadata": {},
   "outputs": [],
   "source": [
    "df2 = df.head(15)"
   ]
  },
  {
   "cell_type": "code",
   "execution_count": 69,
   "id": "038537de",
   "metadata": {
    "scrolled": true
   },
   "outputs": [
    {
     "data": {
      "text/plain": [
       "<AxesSubplot:title={'center':'Top 15 Text'}, xlabel='text'>"
      ]
     },
     "execution_count": 69,
     "metadata": {},
     "output_type": "execute_result"
    },
    {
     "data": {
      "image/png": "[encoded data removed]",
      "text/plain": [
       "<Figure size 432x288 with 1 Axes>"
      ]
     },
     "metadata": {
      "needs_background": "light"
     },
     "output_type": "display_data"
    }
   ],
   "source": [
    "df2.plot.bar(x='text', y='freq', title='Top 15 Text', legend = True, )"
   ]
  },
  {
   "cell_type": "markdown",
   "id": "b3249383",
   "metadata": {},
   "source": [
    "As we can observe from initial analysis of the line dataset obtained from 8 different chats.\n",
    "The total amount of words (post-process) is : 399053\n",
    "The most recurring word: Dyah"
   ]
  },
  {
   "cell_type": "code",
   "execution_count": null,
   "id": "434ab750",
   "metadata": {},
   "outputs": [],
   "source": []
  }
 ],
 "metadata": {
  "kernelspec": {
   "display_name": "Python 3",
   "language": "python",
   "name": "python3"
  },
  "language_info": {
   "codemirror_mode": {
    "name": "ipython",
    "version": 3
   },
   "file_extension": ".py",
   "mimetype": "text/x-python",
   "name": "python",
   "nbconvert_exporter": "python",
   "pygments_lexer": "ipython3",
   "version": "3.8.8"
  }
 },
 "nbformat": 4,
 "nbformat_minor": 5
}
